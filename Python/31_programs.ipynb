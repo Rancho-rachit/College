{
 "cells": [
  {
   "cell_type": "code",
   "execution_count": 1,
   "id": "d8a151ad-9dec-4fea-be9e-3cf3f6a45228",
   "metadata": {},
   "outputs": [
    {
     "name": "stdout",
     "output_type": "stream",
     "text": [
      "Hello World!\n"
     ]
    }
   ],
   "source": [
    "print(\"Hello World!\")"
   ]
  },
  {
   "cell_type": "code",
   "execution_count": 2,
   "id": "29884285-d2d0-45f2-80d2-1607b76e0b55",
   "metadata": {},
   "outputs": [
    {
     "name": "stdin",
     "output_type": "stream",
     "text": [
      "Enter first number: 5\n",
      "Enter second number: 5\n"
     ]
    },
    {
     "name": "stdout",
     "output_type": "stream",
     "text": [
      "Sum :  10\n",
      "Difference :  0\n",
      "Product :  25\n"
     ]
    }
   ],
   "source": [
    "a = int(input(\"Enter first number:\"))\n",
    "b = int(input(\"Enter second number:\"))\n",
    "print(\"Sum : \",a+b)\n",
    "print(\"Difference : \",a-b)\n",
    "print(\"Product : \",a*b)"
   ]
  },
  {
   "cell_type": "code",
   "execution_count": 7,
   "id": "4eba2764-fecc-4371-997d-1e6e032f75a9",
   "metadata": {},
   "outputs": [
    {
     "name": "stdin",
     "output_type": "stream",
     "text": [
      "Enter a number: 2\n"
     ]
    },
    {
     "name": "stdout",
     "output_type": "stream",
     "text": [
      "Even\n"
     ]
    }
   ],
   "source": [
    "a = int(input(\"Enter a number:\"))\n",
    "\n",
    "if(a%2==0):\n",
    "    print(\"Even\")\n",
    "\n",
    "else:\n",
    "    print(\"Odd\")"
   ]
  },
  {
   "cell_type": "code",
   "execution_count": 9,
   "id": "39bffce0-aef1-409d-8496-c5d3501b88a3",
   "metadata": {},
   "outputs": [
    {
     "name": "stdin",
     "output_type": "stream",
     "text": [
      "Enter a number: 5\n"
     ]
    },
    {
     "name": "stdout",
     "output_type": "stream",
     "text": [
      "120\n"
     ]
    }
   ],
   "source": [
    "a = int(input(\"Enter a number:\"))\n",
    "fact=1\n",
    "\n",
    "for i in range(a,1,-1):\n",
    "    fact=fact*i\n",
    "\n",
    "print(fact)"
   ]
  },
  {
   "cell_type": "code",
   "execution_count": 32,
   "id": "3990c343-3cec-4333-9393-3aff06b06bd7",
   "metadata": {},
   "outputs": [
    {
     "name": "stdin",
     "output_type": "stream",
     "text": [
      "Enter a number: 2\n"
     ]
    },
    {
     "name": "stdout",
     "output_type": "stream",
     "text": [
      "Prime\n"
     ]
    }
   ],
   "source": [
    "a = int(input(\"Enter a number:\"))\n",
    "flag=0\n",
    "for i in range(2,(a//2)+1,1):\n",
    "    if(a%i==0):\n",
    "        flag=1\n",
    "        print(\"Not Prime\")\n",
    "        break\n",
    "    else:\n",
    "        continue\n",
    "\n",
    "if(flag==0):\n",
    "    print(\"Prime\")"
   ]
  },
  {
   "cell_type": "code",
   "execution_count": 47,
   "id": "438446d7-1c10-45c7-8ef8-ba80c04832b7",
   "metadata": {},
   "outputs": [
    {
     "name": "stdin",
     "output_type": "stream",
     "text": [
      "Enter a number: 5\n"
     ]
    },
    {
     "name": "stdout",
     "output_type": "stream",
     "text": [
      "0 1 1 2 3 5 8 \n"
     ]
    }
   ],
   "source": [
    "a = int(input(\"Enter a number:\"))\n",
    "one = 0\n",
    "two = 1\n",
    "nxt_num = two\n",
    "count = 1\n",
    "print(one, end = \" \")\n",
    "print(two, end = \" \")\n",
    "\n",
    "while(count<=a):\n",
    "    print(nxt_num, end=\" \")\n",
    "    count += 1\n",
    "    one, two = two, nxt_num\n",
    "    nxt_num = one + two\n",
    "\n",
    "print()"
   ]
  },
  {
   "cell_type": "code",
   "execution_count": null,
   "id": "db59f4e0-ce3c-45a8-bc33-0ad27dbd77c5",
   "metadata": {},
   "outputs": [],
   "source": []
  },
  {
   "cell_type": "code",
   "execution_count": null,
   "id": "246a4527-e892-4ff1-910b-58f405665f7f",
   "metadata": {},
   "outputs": [],
   "source": []
  },
  {
   "cell_type": "code",
   "execution_count": null,
   "id": "39e30abe-6b38-454b-a940-2efc4901d60a",
   "metadata": {},
   "outputs": [],
   "source": []
  },
  {
   "cell_type": "code",
   "execution_count": null,
   "id": "22198601-a993-4d7a-bf96-bee6f182dcec",
   "metadata": {},
   "outputs": [],
   "source": []
  },
  {
   "cell_type": "code",
   "execution_count": 39,
   "id": "033797d9-7ed6-4e90-8952-c4f62619ea34",
   "metadata": {},
   "outputs": [],
   "source": [
    "class Employee:\n",
    "    def __init__(self, eno, ename, esal, eaddress):\n",
    "        self.eno = eno\n",
    "        self.ename = ename\n",
    "        self.esal = esal\n",
    "        self.eaddress = eaddress\n",
    "\n",
    "    def info(self):\n",
    "        print(\"Employee No. : \", self.eno)\n",
    "        print(\"Employee Name : \", self.ename)\n",
    "        print(\"Employee Salary : \", self.esal)\n",
    "        print(\"Employee Address : \", self.eaddress)\n",
    "        print(id(self.eno))"
   ]
  },
  {
   "cell_type": "code",
   "execution_count": 40,
   "id": "bc71fa9d-4b90-4e95-8ecc-6d945327bdfc",
   "metadata": {},
   "outputs": [],
   "source": [
    "e1 = Employee(21,\"Ram\",500,\"Indore\")"
   ]
  },
  {
   "cell_type": "code",
   "execution_count": 42,
   "id": "a1e0fc9e-1fce-491c-ae3f-b20558189bac",
   "metadata": {},
   "outputs": [
    {
     "name": "stdout",
     "output_type": "stream",
     "text": [
      "Employee No. :  21\n",
      "Employee Name :  Ram\n",
      "Employee Salary :  500\n",
      "Employee Address :  Indore\n",
      "4334279456\n"
     ]
    }
   ],
   "source": [
    "e1.info()"
   ]
  },
  {
   "cell_type": "code",
   "execution_count": null,
   "id": "fd8d4c3f-a9fc-467d-8569-781720175238",
   "metadata": {},
   "outputs": [],
   "source": []
  }
 ],
 "metadata": {
  "kernelspec": {
   "display_name": "Python 3 (ipykernel)",
   "language": "python",
   "name": "python3"
  },
  "language_info": {
   "codemirror_mode": {
    "name": "ipython",
    "version": 3
   },
   "file_extension": ".py",
   "mimetype": "text/x-python",
   "name": "python",
   "nbconvert_exporter": "python",
   "pygments_lexer": "ipython3",
   "version": "3.12.2"
  }
 },
 "nbformat": 4,
 "nbformat_minor": 5
}
